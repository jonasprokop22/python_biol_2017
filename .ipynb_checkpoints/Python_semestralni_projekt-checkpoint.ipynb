{
 "cells": [
  {
   "cell_type": "code",
   "execution_count": 225,
   "metadata": {},
   "outputs": [],
   "source": [
    "import matplotlib\n",
    "import pandas as pd\n",
    "import numpy as np\n",
    "from plotly.offline import init_notebook_mode, iplot\n",
    "import plotly.graph_objs as go\n",
    "\n"
   ]
  },
  {
   "cell_type": "code",
   "execution_count": 226,
   "metadata": {},
   "outputs": [],
   "source": [
    "init_data = pd.read_csv(\"http://vincentarelbundock.github.io/Rdatasets/csv/HSAUR/epilepsy.csv\") "
   ]
  },
  {
   "cell_type": "code",
   "execution_count": 227,
   "metadata": {},
   "outputs": [
    {
     "data": {
      "text/plain": [
       "<function plotly.offline.offline.init_notebook_mode>"
      ]
     },
     "execution_count": 227,
     "metadata": {},
     "output_type": "execute_result"
    }
   ],
   "source": [
    "init_notebook_mode"
   ]
  },
  {
   "cell_type": "code",
   "execution_count": 228,
   "metadata": {},
   "outputs": [
    {
     "data": {
      "text/html": [
       "<div>\n",
       "<style scoped>\n",
       "    .dataframe tbody tr th:only-of-type {\n",
       "        vertical-align: middle;\n",
       "    }\n",
       "\n",
       "    .dataframe tbody tr th {\n",
       "        vertical-align: top;\n",
       "    }\n",
       "\n",
       "    .dataframe thead th {\n",
       "        text-align: right;\n",
       "    }\n",
       "</style>\n",
       "<table border=\"1\" class=\"dataframe\">\n",
       "  <thead>\n",
       "    <tr style=\"text-align: right;\">\n",
       "      <th></th>\n",
       "      <th>Unnamed: 0</th>\n",
       "      <th>treatment</th>\n",
       "      <th>base</th>\n",
       "      <th>age</th>\n",
       "      <th>seizure.rate</th>\n",
       "      <th>period</th>\n",
       "      <th>subject</th>\n",
       "    </tr>\n",
       "  </thead>\n",
       "  <tbody>\n",
       "    <tr>\n",
       "      <th>0</th>\n",
       "      <td>1</td>\n",
       "      <td>placebo</td>\n",
       "      <td>11</td>\n",
       "      <td>31</td>\n",
       "      <td>5</td>\n",
       "      <td>1</td>\n",
       "      <td>1</td>\n",
       "    </tr>\n",
       "    <tr>\n",
       "      <th>1</th>\n",
       "      <td>110</td>\n",
       "      <td>placebo</td>\n",
       "      <td>11</td>\n",
       "      <td>31</td>\n",
       "      <td>3</td>\n",
       "      <td>2</td>\n",
       "      <td>1</td>\n",
       "    </tr>\n",
       "    <tr>\n",
       "      <th>2</th>\n",
       "      <td>112</td>\n",
       "      <td>placebo</td>\n",
       "      <td>11</td>\n",
       "      <td>31</td>\n",
       "      <td>3</td>\n",
       "      <td>3</td>\n",
       "      <td>1</td>\n",
       "    </tr>\n",
       "    <tr>\n",
       "      <th>3</th>\n",
       "      <td>114</td>\n",
       "      <td>placebo</td>\n",
       "      <td>11</td>\n",
       "      <td>31</td>\n",
       "      <td>3</td>\n",
       "      <td>4</td>\n",
       "      <td>1</td>\n",
       "    </tr>\n",
       "    <tr>\n",
       "      <th>4</th>\n",
       "      <td>2</td>\n",
       "      <td>placebo</td>\n",
       "      <td>11</td>\n",
       "      <td>30</td>\n",
       "      <td>3</td>\n",
       "      <td>1</td>\n",
       "      <td>2</td>\n",
       "    </tr>\n",
       "  </tbody>\n",
       "</table>\n",
       "</div>"
      ],
      "text/plain": [
       "   Unnamed: 0 treatment  base  age  seizure.rate  period  subject\n",
       "0           1   placebo    11   31             5       1        1\n",
       "1         110   placebo    11   31             3       2        1\n",
       "2         112   placebo    11   31             3       3        1\n",
       "3         114   placebo    11   31             3       4        1\n",
       "4           2   placebo    11   30             3       1        2"
      ]
     },
     "execution_count": 228,
     "metadata": {},
     "output_type": "execute_result"
    }
   ],
   "source": [
    "init_data.head ()\n",
    "\n"
   ]
  },
  {
   "cell_type": "code",
   "execution_count": 229,
   "metadata": {
    "scrolled": true
   },
   "outputs": [],
   "source": [
    "init_data[\"efficiency\"] = (init_data[\"base\"] - init_data[\"seizure.rate\"]) / init_data[\"base\"]\n"
   ]
  },
  {
   "cell_type": "code",
   "execution_count": 247,
   "metadata": {
    "scrolled": true
   },
   "outputs": [],
   "source": [
    "data_period_1 = init_data.loc[init_data['period'] == 1]\n",
    "data_period_2 = init_data.loc[init_data['period'] == 2]\n",
    "data_period_3 = init_data.loc[init_data['period'] == 3]\n",
    "data_period_4 = init_data.loc[init_data['period'] == 4]\n",
    "\n",
    "\n",
    "placebo_data_period_1 = data_period_1.loc[init_data['treatment'] == \"placebo\"]\n",
    "progabide_data_period_1 = data_period_1.loc[init_data['treatment'] == \"Progabide\"]\n",
    "\n",
    "placebo_data_period_2 = data_period_2.loc[init_data['treatment'] == \"placebo\"]\n",
    "progabide_data_period_2 = data_period_2.loc[init_data['treatment'] == \"Progabide\"]\n",
    "\n",
    "placebo_data_period_3 = data_period_3.loc[init_data['treatment'] == \"placebo\"]\n",
    "progabide_data_period_3 = data_period_3.loc[init_data['treatment'] == \"Progabide\"]\n",
    "\n",
    "placebo_data_period_4 = data_period_4.loc[init_data['treatment'] == \"placebo\"]\n",
    "progabide_data_period_4 = data_period_4.loc[init_data['treatment'] == \"Progabide\"]\n"
   ]
  },
  {
   "cell_type": "code",
   "execution_count": 248,
   "metadata": {},
   "outputs": [
    {
     "name": "stdout",
     "output_type": "stream",
     "text": [
      "0.7887693005802362 0.7425464028754143 0.7852271085154565 0.8139352241648296 0.6729395501435835 0.6952500371701351 0.7342860923935659 0.7250882480908013\n"
     ]
    }
   ],
   "source": [
    "placebo_efficiency_p_1 = np.mean (placebo_data_period_1['efficiency'])  \n",
    "progabide_efficiency_p_1 = np.mean (progabide_data_period_1['efficiency'])\n",
    "\n",
    "placebo_efficiency_p_2 = np.mean (placebo_data_period_2['efficiency'])\n",
    "progabide_efficiency_p_2 = np.mean (progabide_data_period_2['efficiency'])\n",
    "\n",
    "placebo_efficiency_p_3 = np.mean (placebo_data_period_3['efficiency'])\n",
    "progabide_efficiency_p_3 = np.mean (progabide_data_period_3['efficiency'])\n",
    "\n",
    "placebo_efficiency_p_4 = np.mean (placebo_data_period_4 ['efficiency'])\n",
    "progabide_efficiency_p_4 = np.mean (progabide_data_period_4 ['efficiency'])\n",
    "\n",
    "print (progabide_efficiency_p_1, progabide_efficiency_p_2, progabide_efficiency_p_3, progabide_efficiency_p_4,\n",
    "      placebo_efficiency_p_1, placebo_efficiency_p_2, placebo_efficiency_p_3, placebo_efficiency_p_4)"
   ]
  },
  {
   "cell_type": "code",
   "execution_count": 249,
   "metadata": {},
   "outputs": [
    {
     "name": "stdout",
     "output_type": "stream",
     "text": [
      "0.7068909819495213 0.782619509033984\n"
     ]
    }
   ],
   "source": [
    "placebo_data = init_data.loc[init_data['treatment'] == \"placebo\"]\n",
    "placebo_data_mean = np.mean (placebo_data['efficiency'])\n",
    "progabide_data = init_data.loc[init_data['treatment'] == \"Progabide\"]\n",
    "progabide_data_mean = np.mean (progabide_data['efficiency'])\n",
    "print (placebo_data_mean, progabide_data_mean)"
   ]
  },
  {
   "cell_type": "code",
   "execution_count": 250,
   "metadata": {},
   "outputs": [
    {
     "data": {
      "application/vnd.plotly.v1+json": {
       "data": [
        {
         "marker": {
          "color": "rgb(rgb(210, 0, 0))"
         },
         "name": "Progabide",
         "type": "bar",
         "x": [
          "First period",
          "Second period",
          "Third period",
          "Fourth period"
         ],
         "y": [
          0.7887693005802362,
          0.7425464028754143,
          0.7852271085154565,
          0.8139352241648296
         ]
        },
        {
         "marker": {
          "color": "rgb(50, 140, 240)"
         },
         "name": "Placebo",
         "type": "bar",
         "x": [
          "First period",
          "Second period",
          "Third period",
          "Fourth period"
         ],
         "y": [
          0.6729395501435835,
          0.6952500371701351,
          0.7342860923935659,
          0.7250882480908013
         ]
        }
       ],
       "layout": {
        "barmode": "group",
        "title": "Progabide supported treatment compared with placebo in four 2 weeks follow-up periods",
        "yaxis": {
         "title": "Efficiency in seizure frequency reduction"
        }
       }
      },
      "text/html": [
       "<div id=\"ea8cfff1-fe02-4af3-b7d7-b93e7dc53b11\" style=\"height: 525px; width: 100%;\" class=\"plotly-graph-div\"></div><script type=\"text/javascript\">require([\"plotly\"], function(Plotly) { window.PLOTLYENV=window.PLOTLYENV || {};window.PLOTLYENV.BASE_URL=\"https://plot.ly\";Plotly.newPlot(\"ea8cfff1-fe02-4af3-b7d7-b93e7dc53b11\", [{\"type\": \"bar\", \"x\": [\"First period\", \"Second period\", \"Third period\", \"Fourth period\"], \"y\": [0.7887693005802362, 0.7425464028754143, 0.7852271085154565, 0.8139352241648296], \"name\": \"Progabide\", \"marker\": {\"color\": \"rgb(rgb(210, 0, 0))\"}}, {\"type\": \"bar\", \"x\": [\"First period\", \"Second period\", \"Third period\", \"Fourth period\"], \"y\": [0.6729395501435835, 0.6952500371701351, 0.7342860923935659, 0.7250882480908013], \"name\": \"Placebo\", \"marker\": {\"color\": \"rgb(50, 140, 240)\"}}], {\"title\": \"Progabide supported treatment compared with placebo in four 2 weeks follow-up periods\", \"yaxis\": {\"title\": \"Efficiency in seizure frequency reduction\"}, \"barmode\": \"group\"}, {\"showLink\": true, \"linkText\": \"Export to plot.ly\"})});</script>"
      ],
      "text/vnd.plotly.v1+html": [
       "<div id=\"ea8cfff1-fe02-4af3-b7d7-b93e7dc53b11\" style=\"height: 525px; width: 100%;\" class=\"plotly-graph-div\"></div><script type=\"text/javascript\">require([\"plotly\"], function(Plotly) { window.PLOTLYENV=window.PLOTLYENV || {};window.PLOTLYENV.BASE_URL=\"https://plot.ly\";Plotly.newPlot(\"ea8cfff1-fe02-4af3-b7d7-b93e7dc53b11\", [{\"type\": \"bar\", \"x\": [\"First period\", \"Second period\", \"Third period\", \"Fourth period\"], \"y\": [0.7887693005802362, 0.7425464028754143, 0.7852271085154565, 0.8139352241648296], \"name\": \"Progabide\", \"marker\": {\"color\": \"rgb(rgb(210, 0, 0))\"}}, {\"type\": \"bar\", \"x\": [\"First period\", \"Second period\", \"Third period\", \"Fourth period\"], \"y\": [0.6729395501435835, 0.6952500371701351, 0.7342860923935659, 0.7250882480908013], \"name\": \"Placebo\", \"marker\": {\"color\": \"rgb(50, 140, 240)\"}}], {\"title\": \"Progabide supported treatment compared with placebo in four 2 weeks follow-up periods\", \"yaxis\": {\"title\": \"Efficiency in seizure frequency reduction\"}, \"barmode\": \"group\"}, {\"showLink\": true, \"linkText\": \"Export to plot.ly\"})});</script>"
      ]
     },
     "metadata": {},
     "output_type": "display_data"
    }
   ],
   "source": [
    "trace1 = go.Bar(\n",
    "    x = [\"First period\", \"Second period\", \"Third period\", \"Fourth period\"],\n",
    "    y = [progabide_efficiency_p_1,progabide_efficiency_p_2, progabide_efficiency_p_3, progabide_efficiency_p_4], \n",
    "    name='Progabide',\n",
    "    marker=dict(\n",
    "    color= 'rgb(rgb(210, 0, 0))', \n",
    "    )\n",
    "     \n",
    ")\n",
    "trace2 = go.Bar(\n",
    "    x = [\"First period\", \"Second period\", \"Third period\", \"Fourth period\"],\n",
    "    y = [placebo_efficiency_p_1, placebo_efficiency_p_2, placebo_efficiency_p_3, placebo_efficiency_p_4], \n",
    "    name='Placebo',\n",
    "    marker=dict(\n",
    "    color= 'rgb(50, 140, 240)', \n",
    "    )\n",
    "     \n",
    ")\n",
    "\n",
    "data = [trace1, trace2]\n",
    "\n",
    "layout = go.Layout( \n",
    "    title = \"Progabide supported treatment compared with placebo in four 2 weeks follow-up periods\",\n",
    "    yaxis=dict(\n",
    "    title=\"Efficiency in seizure frequency reduction\"),\n",
    "    barmode='group'\n",
    "    \n",
    ")\n",
    "fig = dict (data=data, layout=layout)\n",
    "iplot(fig)"
   ]
  },
  {
   "cell_type": "code",
   "execution_count": 253,
   "metadata": {},
   "outputs": [
    {
     "data": {
      "application/vnd.plotly.v1+json": {
       "data": [
        {
         "marker": {
          "color": "rgb(rgb(210, 0, 0))"
         },
         "name": "Progabide",
         "type": "bar",
         "x": [
          "Progabide"
         ],
         "y": [
          0.782619509033984
         ]
        },
        {
         "marker": {
          "color": "rgb(50, 140, 240)"
         },
         "name": "Placebo",
         "type": "bar",
         "x": [
          "Placebo"
         ],
         "y": [
          0.7068909819495213
         ]
        }
       ],
       "layout": {
        "title": "Progabide supported treatment compared with placebo in 8 weeks period",
        "width": [
         2,
         2
        ],
        "yaxis": {
         "title": "Efficiency in seizure frequency reduction"
        }
       }
      },
      "text/html": [
       "<div id=\"a0b34770-8aa3-42ac-a239-79f92e3400cd\" style=\"height: 525px; width: [2, 2];\" class=\"plotly-graph-div\"></div><script type=\"text/javascript\">require([\"plotly\"], function(Plotly) { window.PLOTLYENV=window.PLOTLYENV || {};window.PLOTLYENV.BASE_URL=\"https://plot.ly\";Plotly.newPlot(\"a0b34770-8aa3-42ac-a239-79f92e3400cd\", [{\"type\": \"bar\", \"x\": [\"Progabide\"], \"y\": [0.782619509033984], \"name\": \"Progabide\", \"marker\": {\"color\": \"rgb(rgb(210, 0, 0))\"}}, {\"type\": \"bar\", \"x\": [\"Placebo\"], \"y\": [0.7068909819495213], \"name\": \"Placebo\", \"marker\": {\"color\": \"rgb(50, 140, 240)\"}}], {\"title\": \"Progabide supported treatment compared with placebo in 8 weeks period\", \"yaxis\": {\"title\": \"Efficiency in seizure frequency reduction\"}, \"width\": [2, 2]}, {\"showLink\": true, \"linkText\": \"Export to plot.ly\"})});</script>"
      ],
      "text/vnd.plotly.v1+html": [
       "<div id=\"a0b34770-8aa3-42ac-a239-79f92e3400cd\" style=\"height: 525px; width: [2, 2];\" class=\"plotly-graph-div\"></div><script type=\"text/javascript\">require([\"plotly\"], function(Plotly) { window.PLOTLYENV=window.PLOTLYENV || {};window.PLOTLYENV.BASE_URL=\"https://plot.ly\";Plotly.newPlot(\"a0b34770-8aa3-42ac-a239-79f92e3400cd\", [{\"type\": \"bar\", \"x\": [\"Progabide\"], \"y\": [0.782619509033984], \"name\": \"Progabide\", \"marker\": {\"color\": \"rgb(rgb(210, 0, 0))\"}}, {\"type\": \"bar\", \"x\": [\"Placebo\"], \"y\": [0.7068909819495213], \"name\": \"Placebo\", \"marker\": {\"color\": \"rgb(50, 140, 240)\"}}], {\"title\": \"Progabide supported treatment compared with placebo in 8 weeks period\", \"yaxis\": {\"title\": \"Efficiency in seizure frequency reduction\"}, \"width\": [2, 2]}, {\"showLink\": true, \"linkText\": \"Export to plot.ly\"})});</script>"
      ]
     },
     "metadata": {},
     "output_type": "display_data"
    }
   ],
   "source": [
    "trace3 = go.Bar(\n",
    "    x = [\"Progabide\"],\n",
    "    y = [progabide_data_mean], \n",
    "    name='Progabide',\n",
    "    marker=dict(\n",
    "    color= 'rgb(rgb(210, 0, 0))', \n",
    "    )\n",
    "\n",
    ")\n",
    "trace4 = go.Bar(\n",
    "    x = [\"Placebo\"],\n",
    "    y = [placebo_data_mean], \n",
    "    name='Placebo',\n",
    "    marker=dict(\n",
    "    color= 'rgb(50, 140, 240)', \n",
    "    )\n",
    ")\n",
    "data = [trace3, trace4]\n",
    "\n",
    "layout = go.Layout( \n",
    "    title = \"Progabide supported treatment compared with placebo in 8 weeks period\",\n",
    "    yaxis=dict(\n",
    "    title=\"Efficiency in seizure frequency reduction\"),\n",
    "    width = [2, 2]\n",
    ")\n",
    "fig = dict (data=data, layout=layout)\n",
    "iplot(fig)\n"
   ]
  },
  {
   "cell_type": "code",
   "execution_count": null,
   "metadata": {},
   "outputs": [],
   "source": [
    "\n"
   ]
  },
  {
   "cell_type": "code",
   "execution_count": null,
   "metadata": {},
   "outputs": [],
   "source": []
  },
  {
   "cell_type": "code",
   "execution_count": null,
   "metadata": {},
   "outputs": [],
   "source": []
  },
  {
   "cell_type": "code",
   "execution_count": null,
   "metadata": {},
   "outputs": [],
   "source": []
  },
  {
   "cell_type": "code",
   "execution_count": null,
   "metadata": {},
   "outputs": [],
   "source": []
  }
 ],
 "metadata": {
  "kernelspec": {
   "display_name": "Python 3",
   "language": "python",
   "name": "python3"
  },
  "language_info": {
   "codemirror_mode": {
    "name": "ipython",
    "version": 3
   },
   "file_extension": ".py",
   "mimetype": "text/x-python",
   "name": "python",
   "nbconvert_exporter": "python",
   "pygments_lexer": "ipython3",
   "version": "3.6.4"
  }
 },
 "nbformat": 4,
 "nbformat_minor": 2
}
