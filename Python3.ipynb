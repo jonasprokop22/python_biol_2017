{
 "cells": [
  {
   "cell_type": "code",
   "execution_count": 17,
   "metadata": {
    "scrolled": true
   },
   "outputs": [
    {
     "name": "stdout",
     "output_type": "stream",
     "text": [
      "Počet písmen: 52\n",
      "Počet čísel: 3 \n",
      "Počet ostatních znaků: 19 \n"
     ]
    }
   ],
   "source": [
    "text = 'Král řekl Honzovi: \"Ta saň má 7 hlav! Zabij ji a dostaneš 1/2 království.\"'\n",
    "def count (x):\n",
    "    let = 0\n",
    "    num = 0\n",
    "    other = 0\n",
    "    x = list (x)\n",
    "    for sym in x:\n",
    "        if sym.isalpha ():\n",
    "            let = let + 1 \n",
    "        elif sym.isnumeric ():\n",
    "            num = num + 1\n",
    "        else:\n",
    "            other = other + 1\n",
    "    print (\"\"\"Počet písmen: {}\n",
    "Počet čísel: {} \n",
    "Počet ostatních znaků: {} \"\"\".format (let, num, other))\n",
    "\n",
    "    \n",
    "count (text)"
   ]
  },
  {
   "cell_type": "code",
   "execution_count": 21,
   "metadata": {},
   "outputs": [
    {
     "name": "stdout",
     "output_type": "stream",
     "text": [
      "430\n"
     ]
    }
   ],
   "source": [
    "def micina (x):\n",
    "    age = 0\n",
    "    if x == 1:\n",
    "        age = age + 18\n",
    "    elif x == 2:\n",
    "        age =  age + 7 + 18\n",
    "    else:\n",
    "        age = age + 18 + 7 + (x-2) * 5\n",
    "    print (age)\n",
    "mikes = 83\n",
    "micina (mikes)"
   ]
  },
  {
   "cell_type": "code",
   "execution_count": null,
   "metadata": {
    "collapsed": true
   },
   "outputs": [],
   "source": []
  }
 ],
 "metadata": {
  "kernelspec": {
   "display_name": "Python 3",
   "language": "python",
   "name": "python3"
  },
  "language_info": {
   "codemirror_mode": {
    "name": "ipython",
    "version": 3
   },
   "file_extension": ".py",
   "mimetype": "text/x-python",
   "name": "python",
   "nbconvert_exporter": "python",
   "pygments_lexer": "ipython3",
   "version": "3.6.1"
  }
 },
 "nbformat": 4,
 "nbformat_minor": 2
}
