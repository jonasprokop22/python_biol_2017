{
 "cells": [
  {
   "cell_type": "code",
   "execution_count": 50,
   "metadata": {
    "collapsed": true
   },
   "outputs": [],
   "source": [
    "def nucl_freq (seq, base):\n",
    "    b_count = 0\n",
    "    l_seq = list (seq)\n",
    "    for x in l_seq:\n",
    "        if x == base:\n",
    "            b_count += 1 \n",
    "    result = round (b_count/len (l_seq), 3)\n",
    "    return (result)\n"
   ]
  },
  {
   "cell_type": "code",
   "execution_count": 51,
   "metadata": {
    "collapsed": true
   },
   "outputs": [],
   "source": [
    "def nucl_freq_all (seq):\n",
    "    bases = [\"A\",\"C\",\"G\",\"T\"]\n",
    "    percent = []\n",
    "    for i in bases:\n",
    "        l = nucl_freq (seq, i)\n",
    "        percent.append (l)\n",
    "    result = {}\n",
    "    for x in range (len (bases)):\n",
    "        result [bases [x]] = percent [x]\n",
    "    return (result)\n",
    "   "
   ]
  },
  {
   "cell_type": "code",
   "execution_count": 52,
   "metadata": {},
   "outputs": [
    {
     "name": "stdout",
     "output_type": "stream",
     "text": [
      "0.3\n"
     ]
    }
   ],
   "source": [
    "a_freq = nucl_freq (\"ACTGAATGCT\", \"A\")\n",
    "print (a_freq)"
   ]
  },
  {
   "cell_type": "code",
   "execution_count": 53,
   "metadata": {},
   "outputs": [
    {
     "name": "stdout",
     "output_type": "stream",
     "text": [
      "{'A': 0.3, 'C': 0.2, 'G': 0.2, 'T': 0.3}\n"
     ]
    }
   ],
   "source": [
    "freqs = nucl_freq_all (\"ACTGAATGCT\")  \n",
    "print (freqs)"
   ]
  },
  {
   "cell_type": "code",
   "execution_count": null,
   "metadata": {
    "collapsed": true
   },
   "outputs": [],
   "source": []
  },
  {
   "cell_type": "code",
   "execution_count": null,
   "metadata": {
    "collapsed": true
   },
   "outputs": [],
   "source": []
  },
  {
   "cell_type": "code",
   "execution_count": null,
   "metadata": {
    "collapsed": true
   },
   "outputs": [],
   "source": []
  }
 ],
 "metadata": {
  "kernelspec": {
   "display_name": "Python 3",
   "language": "python",
   "name": "python3"
  },
  "language_info": {
   "codemirror_mode": {
    "name": "ipython",
    "version": 3
   },
   "file_extension": ".py",
   "mimetype": "text/x-python",
   "name": "python",
   "nbconvert_exporter": "python",
   "pygments_lexer": "ipython3",
   "version": "3.6.1"
  }
 },
 "nbformat": 4,
 "nbformat_minor": 2
}
