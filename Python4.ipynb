{
 "cells": [
  {
   "cell_type": "code",
   "execution_count": 21,
   "metadata": {},
   "outputs": [
    {
     "name": "stdout",
     "output_type": "stream",
     "text": [
      "0.1\n"
     ]
    }
   ],
   "source": [
    "def nucl_freg (seg, base):\n",
    "    b_count = 0\n",
    "    l_seg = list (seg)\n",
    "    for x in l_seg:\n",
    "        if x == base:\n",
    "            b_count += 1 \n",
    "    result = round (b_count/len (l_seg), 3)\n",
    "    print (result)\n",
    "nucl_freg (\"ACTGAATGCT\",\"T\" )\n"
   ]
  },
  {
   "cell_type": "code",
   "execution_count": 23,
   "metadata": {},
   "outputs": [
    {
     "name": "stdout",
     "output_type": "stream",
     "text": [
      "{'A': 0.3, 'C': 0.2, 'G': 0.2, 'T': 0.3}\n"
     ]
    }
   ],
   "source": [
    "def nuc_freg_all (seg):\n",
    "    l_seg = list (seg)\n",
    "    A_count = 0\n",
    "    G_count = 0\n",
    "    T_count = 0\n",
    "    C_count = 0\n",
    "    for x in l_seg:\n",
    "        if x == \"A\":\n",
    "            A_count += 1\n",
    "        if x == \"G\":\n",
    "            G_count += 1  \n",
    "        if x == \"T\":\n",
    "            T_count += 1  \n",
    "        if x == \"C\":\n",
    "            C_count += 1  \n",
    "    \n",
    "    A_per = round (A_count / len (l_seg), 3)\n",
    "    G_per = round (G_count / len (l_seg), 3)\n",
    "    T_per = round (T_count / len (l_seg), 3) \n",
    "    C_per = round (C_count / len (l_seg), 3) \n",
    "    \n",
    "    per = [A_per, C_per, G_per, T_per]\n",
    "    \n",
    "    bases = [\"A\", \"C\",  \"G\", \"T\" ]\n",
    "    result = {}\n",
    "    for x in range (len (per)):\n",
    "        result [bases [x]] = per [x]\n",
    "    print ((result))\n",
    "        \n",
    "    \n",
    "nuc_freg_all (\"ACTGAATGCT\")\n",
    "\n",
    "    "
   ]
  },
  {
   "cell_type": "code",
   "execution_count": null,
   "metadata": {
    "collapsed": true
   },
   "outputs": [],
   "source": []
  },
  {
   "cell_type": "code",
   "execution_count": null,
   "metadata": {
    "collapsed": true
   },
   "outputs": [],
   "source": []
  }
 ],
 "metadata": {
  "kernelspec": {
   "display_name": "Python 3",
   "language": "python",
   "name": "python3"
  },
  "language_info": {
   "codemirror_mode": {
    "name": "ipython",
    "version": 3
   },
   "file_extension": ".py",
   "mimetype": "text/x-python",
   "name": "python",
   "nbconvert_exporter": "python",
   "pygments_lexer": "ipython3",
   "version": "3.6.1"
  }
 },
 "nbformat": 4,
 "nbformat_minor": 2
}
